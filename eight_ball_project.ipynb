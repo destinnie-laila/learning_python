{
 "metadata": {
  "language_info": {
   "codemirror_mode": {
    "name": "ipython",
    "version": 3
   },
   "file_extension": ".py",
   "mimetype": "text/x-python",
   "name": "python",
   "nbconvert_exporter": "python",
   "pygments_lexer": "ipython3",
   "version": "3.8.5"
  },
  "orig_nbformat": 4,
  "kernelspec": {
   "name": "python3",
   "display_name": "Python 3.8.5 64-bit ('base': conda)"
  },
  "interpreter": {
   "hash": "a009579364cf8d464c6d364908aada8aee6dac8039fcd51237e140d019ca6a8e"
  }
 },
 "nbformat": 4,
 "nbformat_minor": 2,
 "cells": [
  {
   "cell_type": "code",
   "execution_count": 1,
   "metadata": {},
   "outputs": [],
   "source": [
    "import random"
   ]
  },
  {
   "cell_type": "code",
   "execution_count": 92,
   "metadata": {},
   "outputs": [],
   "source": [
    "name = \"Dee\"\n",
    "question = \"\"\n",
    "answer = \"\""
   ]
  },
  {
   "cell_type": "code",
   "execution_count": 93,
   "metadata": {},
   "outputs": [],
   "source": [
    "random_number = random.randint(1,9)"
   ]
  },
  {
   "cell_type": "code",
   "execution_count": 94,
   "metadata": {},
   "outputs": [],
   "source": [
    "if random_number == 1:\n",
    "    answer = \"Yes - Most definitely!\"\n",
    "elif random_number == 2:\n",
    "    answer = \"It will seem so!\"\n",
    "elif random_number == 3:\n",
    "    answer = \"Hmmm, I don't think so!\"\n",
    "elif random_number == 4:\n",
    "    answer = \"Maybe try ask again!\"\n",
    "elif random_number == 5:\n",
    "    answer = \"Highly doubtly!\"\n",
    "elif random_number == 6:\n",
    "    answer = \"Not so sure about that!\"\n",
    "elif random_number == 7:\n",
    "    answer = \"You shall get what you want!\"\n",
    "elif random_number == 8:\n",
    "    answer = \"All seems good.\"\n",
    "elif random_number == 9:\n",
    "    answer = \"No!\"\n",
    "\n",
    "else:\n",
    "    answer = \"Error\"\n",
    "\n"
   ]
  },
  {
   "cell_type": "code",
   "execution_count": 81,
   "metadata": {},
   "outputs": [
    {
     "output_type": "stream",
     "name": "stdout",
     "text": [
      "Dee asks: Will i win the lotto\nMagic 8-Balls answer: All seems good.\n"
     ]
    }
   ],
   "source": [
    "print(name, \"asks:\", question)\n",
    "print(\"Magic 8-Balls answer:\", answer)"
   ]
  },
  {
   "cell_type": "code",
   "execution_count": 95,
   "metadata": {},
   "outputs": [
    {
     "output_type": "stream",
     "name": "stdout",
     "text": [
      "Magic Ball says: Sorry i cannot answer a null question\n"
     ]
    }
   ],
   "source": [
    "if name == \"\":\n",
    "    print(\"Question:\", question)\n",
    "    print(\"Magic 8-Balls answer:\", answer)\n",
    "elif question == \"\":\n",
    "    print(\"Magic Ball says: Sorry i cannot answer a null question\")\n",
    "else:\n",
    "    print(name, \"asks:\", question)\n",
    "    print(\"Magic 8-Balls answer:\", answer)"
   ]
  },
  {
   "cell_type": "code",
   "execution_count": 98,
   "metadata": {},
   "outputs": [],
   "source": [
    "weight = 8.4\n",
    "cost = 0.0\n",
    "flat_charge = 20.0\n",
    "#Ground Shipping\n",
    "\n",
    "if weight <= 2:\n",
    "  cost = weight * 1.50 + flat_charge\n",
    "elif weight <= 6:\n",
    "  cost = weight * 3.00 + flat_charge\n",
    "elif weight <= 10:\n",
    "  cost = weight * 4.00 + flat_charge\n",
    "else:\n",
    "  cost = weight * 4.75 + flat_charge\n",
    "\n",
    " "
   ]
  },
  {
   "cell_type": "code",
   "execution_count": 99,
   "metadata": {},
   "outputs": [
    {
     "output_type": "stream",
     "name": "stdout",
     "text": [
      "53.6\n"
     ]
    }
   ],
   "source": [
    "print(cost)"
   ]
  },
  {
   "cell_type": "code",
   "execution_count": 112,
   "metadata": {},
   "outputs": [],
   "source": [
    "def shipping_cost_ground(weight):\n",
    "    #Ground Shipping\n",
    "\n",
    "  if weight <= 2:\n",
    "    price_per_pound = 1.50 \n",
    "  elif weight <= 6:\n",
    "    price_per_pound = 3.00 \n",
    "  elif weight <= 10:\n",
    "    price_per_pound = 4.00 \n",
    "  else:\n",
    "    price_per_pound = 4.75 \n",
    "\n",
    "  return 20 + (price_per_pound * weight)"
   ]
  },
  {
   "cell_type": "code",
   "execution_count": 113,
   "metadata": {},
   "outputs": [
    {
     "output_type": "stream",
     "name": "stdout",
     "text": [
      "53.6\n"
     ]
    }
   ],
   "source": [
    "print(shipping_cost_ground(8.4))"
   ]
  },
  {
   "cell_type": "code",
   "execution_count": null,
   "metadata": {},
   "outputs": [],
   "source": []
  }
 ]
}